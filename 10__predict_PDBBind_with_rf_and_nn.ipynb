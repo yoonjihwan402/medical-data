{
  "cells": [
    {
      "cell_type": "markdown",
      "metadata": {
        "id": "view-in-github",
        "colab_type": "text"
      },
      "source": [
        "<a href=\"https://colab.research.google.com/github/yoonjihwan402/medical-data/blob/main/10__predict_PDBBind_with_rf_and_nn.ipynb\" target=\"_parent\"><img src=\"https://colab.research.google.com/assets/colab-badge.svg\" alt=\"Open In Colab\"/></a>"
      ]
    },
    {
      "cell_type": "code",
      "source": [],
      "metadata": {
        "id": "3_Q8XzsjKKSn"
      },
      "execution_count": null,
      "outputs": []
    },
    {
      "cell_type": "markdown",
      "metadata": {
        "id": "ULIoIvZSR_2u"
      },
      "source": [
        "\n",
        "# DeepChem 설치\n",
        "\n",
        "Colab 노트북에 DeepChem 설치\n",
        "\n",
        "tensorflow 기반 모델을 사용할 것이므로 pip install 명령에 [tensorflow]를 추가하여 필요한 종속성도 설치"
      ]
    },
    {
      "cell_type": "code",
      "source": [
        "# DeepChem 설치시 Keras 종속성 버전 일치를 위해 아래 환경 변수 설정 후 import 진행\n",
        "# import os\n",
        "# os.environ[\"TF_USE_LEGACY_KERAS\"] = '1'"
      ],
      "metadata": {
        "id": "YGT8auJ6Txh7"
      },
      "execution_count": null,
      "outputs": []
    },
    {
      "cell_type": "code",
      "source": [
        "!pip install deepchem[tensorflow]"
      ],
      "metadata": {
        "colab": {
          "base_uri": "https://localhost:8080/"
        },
        "collapsed": true,
        "id": "3hdSxfdOP5j9",
        "outputId": "5e698678-9610-452c-998f-02909818cb8d"
      },
      "execution_count": null,
      "outputs": [
        {
          "output_type": "stream",
          "name": "stdout",
          "text": [
            "Collecting deepchem[tensorflow]\n",
            "  Downloading deepchem-2.8.0-py3-none-any.whl.metadata (2.0 kB)\n",
            "Requirement already satisfied: joblib in /usr/local/lib/python3.11/dist-packages (from deepchem[tensorflow]) (1.5.0)\n",
            "Requirement already satisfied: numpy>=1.21 in /usr/local/lib/python3.11/dist-packages (from deepchem[tensorflow]) (2.0.2)\n",
            "Requirement already satisfied: pandas in /usr/local/lib/python3.11/dist-packages (from deepchem[tensorflow]) (2.2.2)\n",
            "Requirement already satisfied: scikit-learn in /usr/local/lib/python3.11/dist-packages (from deepchem[tensorflow]) (1.6.1)\n",
            "Requirement already satisfied: sympy in /usr/local/lib/python3.11/dist-packages (from deepchem[tensorflow]) (1.13.1)\n",
            "Requirement already satisfied: scipy>=1.10.1 in /usr/local/lib/python3.11/dist-packages (from deepchem[tensorflow]) (1.15.3)\n",
            "Collecting rdkit (from deepchem[tensorflow])\n",
            "  Downloading rdkit-2025.3.2-cp311-cp311-manylinux_2_28_x86_64.whl.metadata (4.0 kB)\n",
            "Requirement already satisfied: tensorflow in /usr/local/lib/python3.11/dist-packages (from deepchem[tensorflow]) (2.18.0)\n",
            "Requirement already satisfied: tensorflow-probability in /usr/local/lib/python3.11/dist-packages (from deepchem[tensorflow]) (0.25.0)\n",
            "Collecting tensorflow-addons (from deepchem[tensorflow])\n",
            "  Downloading tensorflow_addons-0.23.0-cp311-cp311-manylinux_2_17_x86_64.manylinux2014_x86_64.whl.metadata (1.8 kB)\n",
            "Requirement already satisfied: python-dateutil>=2.8.2 in /usr/local/lib/python3.11/dist-packages (from pandas->deepchem[tensorflow]) (2.9.0.post0)\n",
            "Requirement already satisfied: pytz>=2020.1 in /usr/local/lib/python3.11/dist-packages (from pandas->deepchem[tensorflow]) (2025.2)\n",
            "Requirement already satisfied: tzdata>=2022.7 in /usr/local/lib/python3.11/dist-packages (from pandas->deepchem[tensorflow]) (2025.2)\n",
            "Requirement already satisfied: Pillow in /usr/local/lib/python3.11/dist-packages (from rdkit->deepchem[tensorflow]) (11.2.1)\n",
            "Requirement already satisfied: threadpoolctl>=3.1.0 in /usr/local/lib/python3.11/dist-packages (from scikit-learn->deepchem[tensorflow]) (3.6.0)\n",
            "Requirement already satisfied: mpmath<1.4,>=1.1.0 in /usr/local/lib/python3.11/dist-packages (from sympy->deepchem[tensorflow]) (1.3.0)\n",
            "Requirement already satisfied: absl-py>=1.0.0 in /usr/local/lib/python3.11/dist-packages (from tensorflow->deepchem[tensorflow]) (1.4.0)\n",
            "Requirement already satisfied: astunparse>=1.6.0 in /usr/local/lib/python3.11/dist-packages (from tensorflow->deepchem[tensorflow]) (1.6.3)\n",
            "Requirement already satisfied: flatbuffers>=24.3.25 in /usr/local/lib/python3.11/dist-packages (from tensorflow->deepchem[tensorflow]) (25.2.10)\n",
            "Requirement already satisfied: gast!=0.5.0,!=0.5.1,!=0.5.2,>=0.2.1 in /usr/local/lib/python3.11/dist-packages (from tensorflow->deepchem[tensorflow]) (0.6.0)\n",
            "Requirement already satisfied: google-pasta>=0.1.1 in /usr/local/lib/python3.11/dist-packages (from tensorflow->deepchem[tensorflow]) (0.2.0)\n",
            "Requirement already satisfied: libclang>=13.0.0 in /usr/local/lib/python3.11/dist-packages (from tensorflow->deepchem[tensorflow]) (18.1.1)\n",
            "Requirement already satisfied: opt-einsum>=2.3.2 in /usr/local/lib/python3.11/dist-packages (from tensorflow->deepchem[tensorflow]) (3.4.0)\n",
            "Requirement already satisfied: packaging in /usr/local/lib/python3.11/dist-packages (from tensorflow->deepchem[tensorflow]) (24.2)\n",
            "Requirement already satisfied: protobuf!=4.21.0,!=4.21.1,!=4.21.2,!=4.21.3,!=4.21.4,!=4.21.5,<6.0.0dev,>=3.20.3 in /usr/local/lib/python3.11/dist-packages (from tensorflow->deepchem[tensorflow]) (5.29.4)\n",
            "Requirement already satisfied: requests<3,>=2.21.0 in /usr/local/lib/python3.11/dist-packages (from tensorflow->deepchem[tensorflow]) (2.32.3)\n",
            "Requirement already satisfied: setuptools in /usr/local/lib/python3.11/dist-packages (from tensorflow->deepchem[tensorflow]) (75.2.0)\n",
            "Requirement already satisfied: six>=1.12.0 in /usr/local/lib/python3.11/dist-packages (from tensorflow->deepchem[tensorflow]) (1.17.0)\n",
            "Requirement already satisfied: termcolor>=1.1.0 in /usr/local/lib/python3.11/dist-packages (from tensorflow->deepchem[tensorflow]) (3.1.0)\n",
            "Requirement already satisfied: typing-extensions>=3.6.6 in /usr/local/lib/python3.11/dist-packages (from tensorflow->deepchem[tensorflow]) (4.13.2)\n",
            "Requirement already satisfied: wrapt>=1.11.0 in /usr/local/lib/python3.11/dist-packages (from tensorflow->deepchem[tensorflow]) (1.17.2)\n",
            "Requirement already satisfied: grpcio<2.0,>=1.24.3 in /usr/local/lib/python3.11/dist-packages (from tensorflow->deepchem[tensorflow]) (1.71.0)\n",
            "Requirement already satisfied: tensorboard<2.19,>=2.18 in /usr/local/lib/python3.11/dist-packages (from tensorflow->deepchem[tensorflow]) (2.18.0)\n",
            "Requirement already satisfied: keras>=3.5.0 in /usr/local/lib/python3.11/dist-packages (from tensorflow->deepchem[tensorflow]) (3.8.0)\n",
            "Requirement already satisfied: h5py>=3.11.0 in /usr/local/lib/python3.11/dist-packages (from tensorflow->deepchem[tensorflow]) (3.13.0)\n",
            "Requirement already satisfied: ml-dtypes<0.5.0,>=0.4.0 in /usr/local/lib/python3.11/dist-packages (from tensorflow->deepchem[tensorflow]) (0.4.1)\n",
            "Requirement already satisfied: tensorflow-io-gcs-filesystem>=0.23.1 in /usr/local/lib/python3.11/dist-packages (from tensorflow->deepchem[tensorflow]) (0.37.1)\n",
            "Collecting typeguard<3.0.0,>=2.7 (from tensorflow-addons->deepchem[tensorflow])\n",
            "  Downloading typeguard-2.13.3-py3-none-any.whl.metadata (3.6 kB)\n",
            "Requirement already satisfied: decorator in /usr/local/lib/python3.11/dist-packages (from tensorflow-probability->deepchem[tensorflow]) (4.4.2)\n",
            "Requirement already satisfied: cloudpickle>=1.3 in /usr/local/lib/python3.11/dist-packages (from tensorflow-probability->deepchem[tensorflow]) (3.1.1)\n",
            "Requirement already satisfied: dm-tree in /usr/local/lib/python3.11/dist-packages (from tensorflow-probability->deepchem[tensorflow]) (0.1.9)\n",
            "Requirement already satisfied: wheel<1.0,>=0.23.0 in /usr/local/lib/python3.11/dist-packages (from astunparse>=1.6.0->tensorflow->deepchem[tensorflow]) (0.45.1)\n",
            "Requirement already satisfied: rich in /usr/local/lib/python3.11/dist-packages (from keras>=3.5.0->tensorflow->deepchem[tensorflow]) (13.9.4)\n",
            "Requirement already satisfied: namex in /usr/local/lib/python3.11/dist-packages (from keras>=3.5.0->tensorflow->deepchem[tensorflow]) (0.0.9)\n",
            "Requirement already satisfied: optree in /usr/local/lib/python3.11/dist-packages (from keras>=3.5.0->tensorflow->deepchem[tensorflow]) (0.15.0)\n",
            "Requirement already satisfied: charset-normalizer<4,>=2 in /usr/local/lib/python3.11/dist-packages (from requests<3,>=2.21.0->tensorflow->deepchem[tensorflow]) (3.4.2)\n",
            "Requirement already satisfied: idna<4,>=2.5 in /usr/local/lib/python3.11/dist-packages (from requests<3,>=2.21.0->tensorflow->deepchem[tensorflow]) (3.10)\n",
            "Requirement already satisfied: urllib3<3,>=1.21.1 in /usr/local/lib/python3.11/dist-packages (from requests<3,>=2.21.0->tensorflow->deepchem[tensorflow]) (2.4.0)\n",
            "Requirement already satisfied: certifi>=2017.4.17 in /usr/local/lib/python3.11/dist-packages (from requests<3,>=2.21.0->tensorflow->deepchem[tensorflow]) (2025.4.26)\n",
            "Requirement already satisfied: markdown>=2.6.8 in /usr/local/lib/python3.11/dist-packages (from tensorboard<2.19,>=2.18->tensorflow->deepchem[tensorflow]) (3.8)\n",
            "Requirement already satisfied: tensorboard-data-server<0.8.0,>=0.7.0 in /usr/local/lib/python3.11/dist-packages (from tensorboard<2.19,>=2.18->tensorflow->deepchem[tensorflow]) (0.7.2)\n",
            "Requirement already satisfied: werkzeug>=1.0.1 in /usr/local/lib/python3.11/dist-packages (from tensorboard<2.19,>=2.18->tensorflow->deepchem[tensorflow]) (3.1.3)\n",
            "Requirement already satisfied: attrs>=18.2.0 in /usr/local/lib/python3.11/dist-packages (from dm-tree->tensorflow-probability->deepchem[tensorflow]) (25.3.0)\n",
            "Requirement already satisfied: MarkupSafe>=2.1.1 in /usr/local/lib/python3.11/dist-packages (from werkzeug>=1.0.1->tensorboard<2.19,>=2.18->tensorflow->deepchem[tensorflow]) (3.0.2)\n",
            "Requirement already satisfied: markdown-it-py>=2.2.0 in /usr/local/lib/python3.11/dist-packages (from rich->keras>=3.5.0->tensorflow->deepchem[tensorflow]) (3.0.0)\n",
            "Requirement already satisfied: pygments<3.0.0,>=2.13.0 in /usr/local/lib/python3.11/dist-packages (from rich->keras>=3.5.0->tensorflow->deepchem[tensorflow]) (2.19.1)\n",
            "Requirement already satisfied: mdurl~=0.1 in /usr/local/lib/python3.11/dist-packages (from markdown-it-py>=2.2.0->rich->keras>=3.5.0->tensorflow->deepchem[tensorflow]) (0.1.2)\n",
            "Downloading deepchem-2.8.0-py3-none-any.whl (1.0 MB)\n",
            "\u001b[2K   \u001b[90m━━━━━━━━━━━━━━━━━━━━━━━━━━━━━━━━━━━━━━━━\u001b[0m \u001b[32m1.0/1.0 MB\u001b[0m \u001b[31m29.8 MB/s\u001b[0m eta \u001b[36m0:00:00\u001b[0m\n",
            "\u001b[?25hDownloading rdkit-2025.3.2-cp311-cp311-manylinux_2_28_x86_64.whl (35.2 MB)\n",
            "\u001b[2K   \u001b[90m━━━━━━━━━━━━━━━━━━━━━━━━━━━━━━━━━━━━━━━━\u001b[0m \u001b[32m35.2/35.2 MB\u001b[0m \u001b[31m18.2 MB/s\u001b[0m eta \u001b[36m0:00:00\u001b[0m\n",
            "\u001b[?25hDownloading tensorflow_addons-0.23.0-cp311-cp311-manylinux_2_17_x86_64.manylinux2014_x86_64.whl (611 kB)\n",
            "\u001b[2K   \u001b[90m━━━━━━━━━━━━━━━━━━━━━━━━━━━━━━━━━━━━━━━━\u001b[0m \u001b[32m611.8/611.8 kB\u001b[0m \u001b[31m30.2 MB/s\u001b[0m eta \u001b[36m0:00:00\u001b[0m\n",
            "\u001b[?25hDownloading typeguard-2.13.3-py3-none-any.whl (17 kB)\n",
            "Installing collected packages: typeguard, rdkit, tensorflow-addons, deepchem\n",
            "  Attempting uninstall: typeguard\n",
            "    Found existing installation: typeguard 4.4.2\n",
            "    Uninstalling typeguard-4.4.2:\n",
            "      Successfully uninstalled typeguard-4.4.2\n",
            "\u001b[31mERROR: pip's dependency resolver does not currently take into account all the packages that are installed. This behaviour is the source of the following dependency conflicts.\n",
            "inflect 7.5.0 requires typeguard>=4.0.1, but you have typeguard 2.13.3 which is incompatible.\u001b[0m\u001b[31m\n",
            "\u001b[0mSuccessfully installed deepchem-2.8.0 rdkit-2025.3.2 tensorflow-addons-0.23.0 typeguard-2.13.3\n"
          ]
        }
      ]
    },
    {
      "cell_type": "code",
      "source": [
        "!pip install deepchem[pytorch]"
      ],
      "metadata": {
        "colab": {
          "base_uri": "https://localhost:8080/"
        },
        "id": "YedmR6svW9G3",
        "outputId": "c53cabbc-8664-4cda-b22c-13e37333e8d8"
      },
      "execution_count": null,
      "outputs": [
        {
          "output_type": "stream",
          "name": "stdout",
          "text": [
            "Requirement already satisfied: deepchem[pytorch] in /usr/local/lib/python3.11/dist-packages (2.8.0)\n",
            "\u001b[33mWARNING: deepchem 2.8.0 does not provide the extra 'pytorch'\u001b[0m\u001b[33m\n",
            "\u001b[0mRequirement already satisfied: joblib in /usr/local/lib/python3.11/dist-packages (from deepchem[pytorch]) (1.5.0)\n",
            "Requirement already satisfied: numpy>=1.21 in /usr/local/lib/python3.11/dist-packages (from deepchem[pytorch]) (2.0.2)\n",
            "Requirement already satisfied: pandas in /usr/local/lib/python3.11/dist-packages (from deepchem[pytorch]) (2.2.2)\n",
            "Requirement already satisfied: scikit-learn in /usr/local/lib/python3.11/dist-packages (from deepchem[pytorch]) (1.6.1)\n",
            "Requirement already satisfied: sympy in /usr/local/lib/python3.11/dist-packages (from deepchem[pytorch]) (1.13.1)\n",
            "Requirement already satisfied: scipy>=1.10.1 in /usr/local/lib/python3.11/dist-packages (from deepchem[pytorch]) (1.15.3)\n",
            "Requirement already satisfied: rdkit in /usr/local/lib/python3.11/dist-packages (from deepchem[pytorch]) (2025.3.2)\n",
            "Requirement already satisfied: python-dateutil>=2.8.2 in /usr/local/lib/python3.11/dist-packages (from pandas->deepchem[pytorch]) (2.9.0.post0)\n",
            "Requirement already satisfied: pytz>=2020.1 in /usr/local/lib/python3.11/dist-packages (from pandas->deepchem[pytorch]) (2025.2)\n",
            "Requirement already satisfied: tzdata>=2022.7 in /usr/local/lib/python3.11/dist-packages (from pandas->deepchem[pytorch]) (2025.2)\n",
            "Requirement already satisfied: Pillow in /usr/local/lib/python3.11/dist-packages (from rdkit->deepchem[pytorch]) (11.2.1)\n",
            "Requirement already satisfied: threadpoolctl>=3.1.0 in /usr/local/lib/python3.11/dist-packages (from scikit-learn->deepchem[pytorch]) (3.6.0)\n",
            "Requirement already satisfied: mpmath<1.4,>=1.1.0 in /usr/local/lib/python3.11/dist-packages (from sympy->deepchem[pytorch]) (1.3.0)\n",
            "Requirement already satisfied: six>=1.5 in /usr/local/lib/python3.11/dist-packages (from python-dateutil>=2.8.2->pandas->deepchem[pytorch]) (1.17.0)\n"
          ]
        }
      ]
    },
    {
      "cell_type": "code",
      "source": [
        "#!pip install tensorflow==2.14.1"
      ],
      "metadata": {
        "id": "8j4Gk-EEMVA5"
      },
      "execution_count": null,
      "outputs": []
    },
    {
      "cell_type": "code",
      "source": [
        "#!pip install deepchem==2.4"
      ],
      "metadata": {
        "id": "CScDxyCKMffT"
      },
      "execution_count": null,
      "outputs": []
    },
    {
      "cell_type": "markdown",
      "metadata": {
        "id": "VldqNo7vSMQ9"
      },
      "source": [
        "## 기타 모듈 설치\n",
        "- rdkit 설치\n",
        "- 레거시 옵티마이저 사용을 위한 tf_keras 설치(deepchem ver 2.4.0일 때만)"
      ]
    },
    {
      "cell_type": "code",
      "execution_count": null,
      "metadata": {
        "colab": {
          "base_uri": "https://localhost:8080/"
        },
        "id": "HXKCRS38R3_3",
        "outputId": "4ee1b95e-3855-4b9d-c866-21681b58b81e",
        "collapsed": true
      },
      "outputs": [
        {
          "output_type": "stream",
          "name": "stdout",
          "text": [
            "Requirement already satisfied: rdkit in /usr/local/lib/python3.11/dist-packages (2025.3.2)\n",
            "Requirement already satisfied: numpy in /usr/local/lib/python3.11/dist-packages (from rdkit) (2.0.2)\n",
            "Requirement already satisfied: Pillow in /usr/local/lib/python3.11/dist-packages (from rdkit) (11.2.1)\n"
          ]
        }
      ],
      "source": [
        "#!pip install rdkit"
      ]
    },
    {
      "cell_type": "code",
      "source": [
        "#!pip install tf_keras"
      ],
      "metadata": {
        "colab": {
          "base_uri": "https://localhost:8080/"
        },
        "collapsed": true,
        "id": "S2uwS9BxTFIT",
        "outputId": "50bc486d-4fd9-4e68-944d-6deac136dbb3"
      },
      "execution_count": null,
      "outputs": [
        {
          "output_type": "stream",
          "name": "stdout",
          "text": [
            "Requirement already satisfied: tf_keras in /usr/local/lib/python3.11/dist-packages (2.18.0)\n",
            "Requirement already satisfied: tensorflow<2.19,>=2.18 in /usr/local/lib/python3.11/dist-packages (from tf_keras) (2.18.0)\n",
            "Requirement already satisfied: absl-py>=1.0.0 in /usr/local/lib/python3.11/dist-packages (from tensorflow<2.19,>=2.18->tf_keras) (1.4.0)\n",
            "Requirement already satisfied: astunparse>=1.6.0 in /usr/local/lib/python3.11/dist-packages (from tensorflow<2.19,>=2.18->tf_keras) (1.6.3)\n",
            "Requirement already satisfied: flatbuffers>=24.3.25 in /usr/local/lib/python3.11/dist-packages (from tensorflow<2.19,>=2.18->tf_keras) (25.2.10)\n",
            "Requirement already satisfied: gast!=0.5.0,!=0.5.1,!=0.5.2,>=0.2.1 in /usr/local/lib/python3.11/dist-packages (from tensorflow<2.19,>=2.18->tf_keras) (0.6.0)\n",
            "Requirement already satisfied: google-pasta>=0.1.1 in /usr/local/lib/python3.11/dist-packages (from tensorflow<2.19,>=2.18->tf_keras) (0.2.0)\n",
            "Requirement already satisfied: libclang>=13.0.0 in /usr/local/lib/python3.11/dist-packages (from tensorflow<2.19,>=2.18->tf_keras) (18.1.1)\n",
            "Requirement already satisfied: opt-einsum>=2.3.2 in /usr/local/lib/python3.11/dist-packages (from tensorflow<2.19,>=2.18->tf_keras) (3.4.0)\n",
            "Requirement already satisfied: packaging in /usr/local/lib/python3.11/dist-packages (from tensorflow<2.19,>=2.18->tf_keras) (24.2)\n",
            "Requirement already satisfied: protobuf!=4.21.0,!=4.21.1,!=4.21.2,!=4.21.3,!=4.21.4,!=4.21.5,<6.0.0dev,>=3.20.3 in /usr/local/lib/python3.11/dist-packages (from tensorflow<2.19,>=2.18->tf_keras) (5.29.4)\n",
            "Requirement already satisfied: requests<3,>=2.21.0 in /usr/local/lib/python3.11/dist-packages (from tensorflow<2.19,>=2.18->tf_keras) (2.32.3)\n",
            "Requirement already satisfied: setuptools in /usr/local/lib/python3.11/dist-packages (from tensorflow<2.19,>=2.18->tf_keras) (75.2.0)\n",
            "Requirement already satisfied: six>=1.12.0 in /usr/local/lib/python3.11/dist-packages (from tensorflow<2.19,>=2.18->tf_keras) (1.17.0)\n",
            "Requirement already satisfied: termcolor>=1.1.0 in /usr/local/lib/python3.11/dist-packages (from tensorflow<2.19,>=2.18->tf_keras) (3.1.0)\n",
            "Requirement already satisfied: typing-extensions>=3.6.6 in /usr/local/lib/python3.11/dist-packages (from tensorflow<2.19,>=2.18->tf_keras) (4.13.2)\n",
            "Requirement already satisfied: wrapt>=1.11.0 in /usr/local/lib/python3.11/dist-packages (from tensorflow<2.19,>=2.18->tf_keras) (1.17.2)\n",
            "Requirement already satisfied: grpcio<2.0,>=1.24.3 in /usr/local/lib/python3.11/dist-packages (from tensorflow<2.19,>=2.18->tf_keras) (1.71.0)\n",
            "Requirement already satisfied: tensorboard<2.19,>=2.18 in /usr/local/lib/python3.11/dist-packages (from tensorflow<2.19,>=2.18->tf_keras) (2.18.0)\n",
            "Requirement already satisfied: keras>=3.5.0 in /usr/local/lib/python3.11/dist-packages (from tensorflow<2.19,>=2.18->tf_keras) (3.8.0)\n",
            "Requirement already satisfied: numpy<2.1.0,>=1.26.0 in /usr/local/lib/python3.11/dist-packages (from tensorflow<2.19,>=2.18->tf_keras) (2.0.2)\n",
            "Requirement already satisfied: h5py>=3.11.0 in /usr/local/lib/python3.11/dist-packages (from tensorflow<2.19,>=2.18->tf_keras) (3.13.0)\n",
            "Requirement already satisfied: ml-dtypes<0.5.0,>=0.4.0 in /usr/local/lib/python3.11/dist-packages (from tensorflow<2.19,>=2.18->tf_keras) (0.4.1)\n",
            "Requirement already satisfied: tensorflow-io-gcs-filesystem>=0.23.1 in /usr/local/lib/python3.11/dist-packages (from tensorflow<2.19,>=2.18->tf_keras) (0.37.1)\n",
            "Requirement already satisfied: wheel<1.0,>=0.23.0 in /usr/local/lib/python3.11/dist-packages (from astunparse>=1.6.0->tensorflow<2.19,>=2.18->tf_keras) (0.45.1)\n",
            "Requirement already satisfied: rich in /usr/local/lib/python3.11/dist-packages (from keras>=3.5.0->tensorflow<2.19,>=2.18->tf_keras) (13.9.4)\n",
            "Requirement already satisfied: namex in /usr/local/lib/python3.11/dist-packages (from keras>=3.5.0->tensorflow<2.19,>=2.18->tf_keras) (0.0.9)\n",
            "Requirement already satisfied: optree in /usr/local/lib/python3.11/dist-packages (from keras>=3.5.0->tensorflow<2.19,>=2.18->tf_keras) (0.15.0)\n",
            "Requirement already satisfied: charset-normalizer<4,>=2 in /usr/local/lib/python3.11/dist-packages (from requests<3,>=2.21.0->tensorflow<2.19,>=2.18->tf_keras) (3.4.2)\n",
            "Requirement already satisfied: idna<4,>=2.5 in /usr/local/lib/python3.11/dist-packages (from requests<3,>=2.21.0->tensorflow<2.19,>=2.18->tf_keras) (3.10)\n",
            "Requirement already satisfied: urllib3<3,>=1.21.1 in /usr/local/lib/python3.11/dist-packages (from requests<3,>=2.21.0->tensorflow<2.19,>=2.18->tf_keras) (2.4.0)\n",
            "Requirement already satisfied: certifi>=2017.4.17 in /usr/local/lib/python3.11/dist-packages (from requests<3,>=2.21.0->tensorflow<2.19,>=2.18->tf_keras) (2025.4.26)\n",
            "Requirement already satisfied: markdown>=2.6.8 in /usr/local/lib/python3.11/dist-packages (from tensorboard<2.19,>=2.18->tensorflow<2.19,>=2.18->tf_keras) (3.8)\n",
            "Requirement already satisfied: tensorboard-data-server<0.8.0,>=0.7.0 in /usr/local/lib/python3.11/dist-packages (from tensorboard<2.19,>=2.18->tensorflow<2.19,>=2.18->tf_keras) (0.7.2)\n",
            "Requirement already satisfied: werkzeug>=1.0.1 in /usr/local/lib/python3.11/dist-packages (from tensorboard<2.19,>=2.18->tensorflow<2.19,>=2.18->tf_keras) (3.1.3)\n",
            "Requirement already satisfied: MarkupSafe>=2.1.1 in /usr/local/lib/python3.11/dist-packages (from werkzeug>=1.0.1->tensorboard<2.19,>=2.18->tensorflow<2.19,>=2.18->tf_keras) (3.0.2)\n",
            "Requirement already satisfied: markdown-it-py>=2.2.0 in /usr/local/lib/python3.11/dist-packages (from rich->keras>=3.5.0->tensorflow<2.19,>=2.18->tf_keras) (3.0.0)\n",
            "Requirement already satisfied: pygments<3.0.0,>=2.13.0 in /usr/local/lib/python3.11/dist-packages (from rich->keras>=3.5.0->tensorflow<2.19,>=2.18->tf_keras) (2.19.1)\n",
            "Requirement already satisfied: mdurl~=0.1 in /usr/local/lib/python3.11/dist-packages (from markdown-it-py>=2.2.0->rich->keras>=3.5.0->tensorflow<2.19,>=2.18->tf_keras) (0.1.2)\n"
          ]
        }
      ]
    },
    {
      "cell_type": "markdown",
      "source": [
        "## deepchem 버전 확인"
      ],
      "metadata": {
        "id": "iz3kg3nhfF8h"
      }
    },
    {
      "cell_type": "code",
      "execution_count": null,
      "metadata": {
        "colab": {
          "base_uri": "https://localhost:8080/",
          "height": 377
        },
        "id": "r3TejEUSSqNG",
        "outputId": "b0019242-2a23-47b8-b28c-c9603bbeb946",
        "collapsed": true
      },
      "outputs": [
        {
          "output_type": "stream",
          "name": "stderr",
          "text": [
            "WARNING:deepchem.feat.molecule_featurizers.rdkit_descriptors:No normalization for SPS. Feature removed!\n",
            "WARNING:deepchem.feat.molecule_featurizers.rdkit_descriptors:No normalization for AvgIpc. Feature removed!\n",
            "WARNING:deepchem.feat.molecule_featurizers.rdkit_descriptors:No normalization for NumAmideBonds. Feature removed!\n",
            "WARNING:deepchem.feat.molecule_featurizers.rdkit_descriptors:No normalization for NumAtomStereoCenters. Feature removed!\n",
            "WARNING:deepchem.feat.molecule_featurizers.rdkit_descriptors:No normalization for NumBridgeheadAtoms. Feature removed!\n",
            "WARNING:deepchem.feat.molecule_featurizers.rdkit_descriptors:No normalization for NumHeterocycles. Feature removed!\n",
            "WARNING:deepchem.feat.molecule_featurizers.rdkit_descriptors:No normalization for NumSpiroAtoms. Feature removed!\n",
            "WARNING:deepchem.feat.molecule_featurizers.rdkit_descriptors:No normalization for NumUnspecifiedAtomStereoCenters. Feature removed!\n",
            "WARNING:deepchem.feat.molecule_featurizers.rdkit_descriptors:No normalization for Phi. Feature removed!\n",
            "\u001b[34m\u001b[1mwandb\u001b[0m: \u001b[33mWARNING\u001b[0m W&B installed but not logged in.  Run `wandb login` or set the WANDB_API_KEY env variable.\n",
            "WARNING:tensorflow:From /usr/local/lib/python3.11/dist-packages/tensorflow/python/util/deprecation.py:588: calling function (from tensorflow.python.eager.polymorphic_function.polymorphic_function) with experimental_relax_shapes is deprecated and will be removed in a future version.\n",
            "Instructions for updating:\n",
            "experimental_relax_shapes is deprecated, use reduce_retracing instead\n",
            "\u001b[34m\u001b[1mwandb\u001b[0m: \u001b[33mWARNING\u001b[0m W&B installed but not logged in.  Run `wandb login` or set the WANDB_API_KEY env variable.\n",
            "WARNING:deepchem.models.torch_models:Skipped loading modules with pytorch-geometric dependency, missing a dependency. No module named 'torch_geometric'\n",
            "WARNING:deepchem.models:Skipped loading modules with pytorch-geometric dependency, missing a dependency. cannot import name 'DMPNN' from 'deepchem.models.torch_models' (/usr/local/lib/python3.11/dist-packages/deepchem/models/torch_models/__init__.py)\n",
            "WARNING:deepchem.models:Skipped loading modules with pytorch-lightning dependency, missing a dependency. No module named 'lightning'\n",
            "WARNING:deepchem.models:Skipped loading some Jax models, missing a dependency. No module named 'haiku'\n"
          ]
        },
        {
          "output_type": "execute_result",
          "data": {
            "text/plain": [
              "'2.8.0'"
            ],
            "application/vnd.google.colaboratory.intrinsic+json": {
              "type": "string"
            }
          },
          "metadata": {},
          "execution_count": 3
        }
      ],
      "source": [
        "import deepchem as dc\n",
        "dc.__version__"
      ]
    },
    {
      "cell_type": "markdown",
      "source": [
        "## warning 메시지 생략"
      ],
      "metadata": {
        "id": "HzpVMqr1fREI"
      }
    },
    {
      "cell_type": "code",
      "source": [
        "import warnings\n",
        "warnings.filterwarnings(action='ignore')"
      ],
      "metadata": {
        "id": "T2d763AiYYWf"
      },
      "execution_count": null,
      "outputs": []
    },
    {
      "cell_type": "markdown",
      "source": [
        "# 결합력 예측 모델 만들기\n",
        "DeepChem 라이브러리를 사용하여 그래프 합성곱 신경망을 학습시켜 분자의 용해도를 예측하는 실습 진행\n",
        "\n",
        "PDBBind 데이터 : 분자의 SMILES 표현과 해당 분자의 용해도 값을 포함함\n",
        "\n",
        "- random forest model\n",
        "\n",
        "- multi perceptron model (neural network)"
      ],
      "metadata": {
        "id": "x-QcnxKJfVeH"
      }
    },
    {
      "cell_type": "markdown",
      "source": [
        "## 랜덤 포레스트 모델"
      ],
      "metadata": {
        "id": "EViQ8e5tgfxL"
      }
    },
    {
      "cell_type": "markdown",
      "source": [
        "### 데이터 불러오기 및 확인"
      ],
      "metadata": {
        "id": "mn_hwGiQDNWI"
      }
    },
    {
      "cell_type": "code",
      "source": [
        "import deepchem as dc\n",
        "featurizer = dc.feat.RdkitGridFeaturizer(voxel_width=2.0, sanitize=True, flatten=True,\n",
        "                                         feature_types=['hbond', 'salt_bridge', 'pi_stack', 'cation_pi', 'ecfp', 'splif'])"
      ],
      "metadata": {
        "id": "4atDwQNabD-D"
      },
      "execution_count": null,
      "outputs": []
    },
    {
      "cell_type": "code",
      "source": [
        "pdbbind_tasks, pdbbind_datasets, transformers = dc.molnet.load_pdbbind(\n",
        "    featurizer=featurizer,\n",
        "    splitter=\"random\",\n",
        "    subset=\"core\"\n",
        ")\n",
        "train_dataset, valid_dataset, test_dataset = pdbbind_datasets"
      ],
      "metadata": {
        "colab": {
          "base_uri": "https://localhost:8080/"
        },
        "id": "TVf1WXwLN5Gm",
        "outputId": "a6d20743-37ca-47cd-fc6f-4f054168abff"
      },
      "execution_count": null,
      "outputs": [
        {
          "output_type": "stream",
          "name": "stderr",
          "text": [
            "WARNING:deepchem.feat.base_classes:Failed to featurize datapoint 0. Appending empty array.\n",
            "WARNING:deepchem.feat.base_classes:Failed to featurize datapoint 1. Appending empty array.\n",
            "WARNING:deepchem.feat.base_classes:Failed to featurize datapoint 2. Appending empty array.\n",
            "WARNING:deepchem.feat.base_classes:Failed to featurize datapoint 3. Appending empty array.\n",
            "WARNING:deepchem.feat.base_classes:Failed to featurize datapoint 4. Appending empty array.\n",
            "WARNING:deepchem.feat.base_classes:Failed to featurize datapoint 5. Appending empty array.\n",
            "WARNING:deepchem.feat.base_classes:Failed to featurize datapoint 6. Appending empty array.\n",
            "WARNING:deepchem.feat.base_classes:Failed to featurize datapoint 7. Appending empty array.\n",
            "WARNING:deepchem.feat.base_classes:Failed to featurize datapoint 8. Appending empty array.\n",
            "WARNING:deepchem.feat.base_classes:Failed to featurize datapoint 9. Appending empty array.\n",
            "WARNING:deepchem.feat.base_classes:Failed to featurize datapoint 10. Appending empty array.\n",
            "WARNING:deepchem.feat.base_classes:Failed to featurize datapoint 11. Appending empty array.\n",
            "WARNING:deepchem.feat.base_classes:Failed to featurize datapoint 12. Appending empty array.\n",
            "WARNING:deepchem.feat.base_classes:Failed to featurize datapoint 13. Appending empty array.\n",
            "WARNING:deepchem.feat.base_classes:Failed to featurize datapoint 14. Appending empty array.\n",
            "WARNING:deepchem.feat.base_classes:Failed to featurize datapoint 15. Appending empty array.\n",
            "WARNING:deepchem.feat.base_classes:Failed to featurize datapoint 16. Appending empty array.\n",
            "WARNING:deepchem.feat.base_classes:Failed to featurize datapoint 17. Appending empty array.\n",
            "WARNING:deepchem.feat.base_classes:Failed to featurize datapoint 18. Appending empty array.\n",
            "WARNING:deepchem.feat.base_classes:Failed to featurize datapoint 19. Appending empty array.\n",
            "WARNING:deepchem.feat.base_classes:Failed to featurize datapoint 20. Appending empty array.\n",
            "WARNING:deepchem.feat.base_classes:Failed to featurize datapoint 21. Appending empty array.\n",
            "WARNING:deepchem.feat.base_classes:Failed to featurize datapoint 22. Appending empty array.\n",
            "WARNING:deepchem.feat.base_classes:Failed to featurize datapoint 23. Appending empty array.\n",
            "WARNING:deepchem.feat.base_classes:Failed to featurize datapoint 24. Appending empty array.\n",
            "WARNING:deepchem.feat.base_classes:Failed to featurize datapoint 25. Appending empty array.\n",
            "WARNING:deepchem.feat.base_classes:Failed to featurize datapoint 26. Appending empty array.\n",
            "WARNING:deepchem.feat.base_classes:Failed to featurize datapoint 27. Appending empty array.\n",
            "WARNING:deepchem.feat.base_classes:Failed to featurize datapoint 28. Appending empty array.\n",
            "WARNING:deepchem.feat.base_classes:Failed to featurize datapoint 29. Appending empty array.\n",
            "WARNING:deepchem.feat.base_classes:Failed to featurize datapoint 30. Appending empty array.\n",
            "WARNING:deepchem.feat.base_classes:Failed to featurize datapoint 31. Appending empty array.\n",
            "WARNING:deepchem.feat.base_classes:Failed to featurize datapoint 32. Appending empty array.\n",
            "WARNING:deepchem.feat.base_classes:Failed to featurize datapoint 33. Appending empty array.\n",
            "WARNING:deepchem.feat.base_classes:Failed to featurize datapoint 34. Appending empty array.\n",
            "WARNING:deepchem.feat.base_classes:Failed to featurize datapoint 35. Appending empty array.\n",
            "WARNING:deepchem.feat.base_classes:Failed to featurize datapoint 36. Appending empty array.\n",
            "WARNING:deepchem.feat.base_classes:Failed to featurize datapoint 37. Appending empty array.\n",
            "WARNING:deepchem.feat.base_classes:Failed to featurize datapoint 38. Appending empty array.\n",
            "WARNING:deepchem.feat.base_classes:Failed to featurize datapoint 39. Appending empty array.\n",
            "WARNING:deepchem.feat.base_classes:Failed to featurize datapoint 40. Appending empty array.\n",
            "WARNING:deepchem.feat.base_classes:Failed to featurize datapoint 41. Appending empty array.\n",
            "WARNING:deepchem.feat.base_classes:Failed to featurize datapoint 42. Appending empty array.\n",
            "WARNING:deepchem.feat.base_classes:Failed to featurize datapoint 43. Appending empty array.\n",
            "WARNING:deepchem.feat.base_classes:Failed to featurize datapoint 44. Appending empty array.\n",
            "WARNING:deepchem.feat.base_classes:Failed to featurize datapoint 45. Appending empty array.\n",
            "WARNING:deepchem.feat.base_classes:Failed to featurize datapoint 46. Appending empty array.\n",
            "WARNING:deepchem.feat.base_classes:Failed to featurize datapoint 47. Appending empty array.\n",
            "WARNING:deepchem.feat.base_classes:Failed to featurize datapoint 48. Appending empty array.\n",
            "WARNING:deepchem.feat.base_classes:Failed to featurize datapoint 49. Appending empty array.\n",
            "WARNING:deepchem.feat.base_classes:Failed to featurize datapoint 50. Appending empty array.\n",
            "WARNING:deepchem.feat.base_classes:Failed to featurize datapoint 51. Appending empty array.\n",
            "WARNING:deepchem.feat.base_classes:Failed to featurize datapoint 52. Appending empty array.\n",
            "WARNING:deepchem.feat.base_classes:Failed to featurize datapoint 53. Appending empty array.\n",
            "WARNING:deepchem.feat.base_classes:Failed to featurize datapoint 54. Appending empty array.\n",
            "WARNING:deepchem.feat.base_classes:Failed to featurize datapoint 55. Appending empty array.\n",
            "WARNING:deepchem.feat.base_classes:Failed to featurize datapoint 56. Appending empty array.\n",
            "WARNING:deepchem.feat.base_classes:Failed to featurize datapoint 57. Appending empty array.\n",
            "WARNING:deepchem.feat.base_classes:Failed to featurize datapoint 58. Appending empty array.\n",
            "WARNING:deepchem.feat.base_classes:Failed to featurize datapoint 59. Appending empty array.\n",
            "WARNING:deepchem.feat.base_classes:Failed to featurize datapoint 60. Appending empty array.\n",
            "WARNING:deepchem.feat.base_classes:Failed to featurize datapoint 61. Appending empty array.\n",
            "WARNING:deepchem.feat.base_classes:Failed to featurize datapoint 62. Appending empty array.\n",
            "WARNING:deepchem.feat.base_classes:Failed to featurize datapoint 63. Appending empty array.\n",
            "WARNING:deepchem.feat.base_classes:Failed to featurize datapoint 64. Appending empty array.\n",
            "WARNING:deepchem.feat.base_classes:Failed to featurize datapoint 65. Appending empty array.\n",
            "WARNING:deepchem.feat.base_classes:Failed to featurize datapoint 66. Appending empty array.\n",
            "WARNING:deepchem.feat.base_classes:Failed to featurize datapoint 67. Appending empty array.\n",
            "WARNING:deepchem.feat.base_classes:Failed to featurize datapoint 68. Appending empty array.\n",
            "WARNING:deepchem.feat.base_classes:Failed to featurize datapoint 69. Appending empty array.\n",
            "WARNING:deepchem.feat.base_classes:Failed to featurize datapoint 70. Appending empty array.\n",
            "WARNING:deepchem.feat.base_classes:Failed to featurize datapoint 71. Appending empty array.\n",
            "WARNING:deepchem.feat.base_classes:Failed to featurize datapoint 72. Appending empty array.\n",
            "WARNING:deepchem.feat.base_classes:Failed to featurize datapoint 73. Appending empty array.\n",
            "WARNING:deepchem.feat.base_classes:Failed to featurize datapoint 74. Appending empty array.\n",
            "WARNING:deepchem.feat.base_classes:Failed to featurize datapoint 75. Appending empty array.\n",
            "WARNING:deepchem.feat.base_classes:Failed to featurize datapoint 76. Appending empty array.\n",
            "WARNING:deepchem.feat.base_classes:Failed to featurize datapoint 77. Appending empty array.\n",
            "WARNING:deepchem.feat.base_classes:Failed to featurize datapoint 78. Appending empty array.\n",
            "WARNING:deepchem.feat.base_classes:Failed to featurize datapoint 79. Appending empty array.\n",
            "WARNING:deepchem.feat.base_classes:Failed to featurize datapoint 80. Appending empty array.\n",
            "WARNING:deepchem.feat.base_classes:Failed to featurize datapoint 81. Appending empty array.\n",
            "WARNING:deepchem.feat.base_classes:Failed to featurize datapoint 82. Appending empty array.\n",
            "WARNING:deepchem.feat.base_classes:Failed to featurize datapoint 83. Appending empty array.\n",
            "WARNING:deepchem.feat.base_classes:Failed to featurize datapoint 84. Appending empty array.\n",
            "WARNING:deepchem.feat.base_classes:Failed to featurize datapoint 85. Appending empty array.\n",
            "WARNING:deepchem.feat.base_classes:Failed to featurize datapoint 86. Appending empty array.\n",
            "WARNING:deepchem.feat.base_classes:Failed to featurize datapoint 87. Appending empty array.\n",
            "WARNING:deepchem.feat.base_classes:Failed to featurize datapoint 88. Appending empty array.\n",
            "WARNING:deepchem.feat.base_classes:Failed to featurize datapoint 89. Appending empty array.\n",
            "WARNING:deepchem.feat.base_classes:Failed to featurize datapoint 90. Appending empty array.\n",
            "WARNING:deepchem.feat.base_classes:Failed to featurize datapoint 91. Appending empty array.\n",
            "WARNING:deepchem.feat.base_classes:Failed to featurize datapoint 92. Appending empty array.\n",
            "WARNING:deepchem.feat.base_classes:Failed to featurize datapoint 93. Appending empty array.\n",
            "WARNING:deepchem.feat.base_classes:Failed to featurize datapoint 94. Appending empty array.\n",
            "WARNING:deepchem.feat.base_classes:Failed to featurize datapoint 95. Appending empty array.\n",
            "WARNING:deepchem.feat.base_classes:Failed to featurize datapoint 96. Appending empty array.\n",
            "WARNING:deepchem.feat.base_classes:Failed to featurize datapoint 97. Appending empty array.\n",
            "WARNING:deepchem.feat.base_classes:Failed to featurize datapoint 98. Appending empty array.\n",
            "WARNING:deepchem.feat.base_classes:Failed to featurize datapoint 99. Appending empty array.\n",
            "WARNING:deepchem.feat.base_classes:Failed to featurize datapoint 100. Appending empty array.\n",
            "WARNING:deepchem.feat.base_classes:Failed to featurize datapoint 101. Appending empty array.\n",
            "WARNING:deepchem.feat.base_classes:Failed to featurize datapoint 102. Appending empty array.\n",
            "WARNING:deepchem.feat.base_classes:Failed to featurize datapoint 103. Appending empty array.\n",
            "WARNING:deepchem.feat.base_classes:Failed to featurize datapoint 104. Appending empty array.\n",
            "WARNING:deepchem.feat.base_classes:Failed to featurize datapoint 105. Appending empty array.\n",
            "WARNING:deepchem.feat.base_classes:Failed to featurize datapoint 106. Appending empty array.\n",
            "WARNING:deepchem.feat.base_classes:Failed to featurize datapoint 107. Appending empty array.\n",
            "WARNING:deepchem.feat.base_classes:Failed to featurize datapoint 108. Appending empty array.\n",
            "WARNING:deepchem.feat.base_classes:Failed to featurize datapoint 109. Appending empty array.\n",
            "WARNING:deepchem.feat.base_classes:Failed to featurize datapoint 110. Appending empty array.\n",
            "WARNING:deepchem.feat.base_classes:Failed to featurize datapoint 111. Appending empty array.\n",
            "WARNING:deepchem.feat.base_classes:Failed to featurize datapoint 112. Appending empty array.\n",
            "WARNING:deepchem.feat.base_classes:Failed to featurize datapoint 113. Appending empty array.\n",
            "WARNING:deepchem.feat.base_classes:Failed to featurize datapoint 114. Appending empty array.\n",
            "WARNING:deepchem.feat.base_classes:Failed to featurize datapoint 115. Appending empty array.\n",
            "WARNING:deepchem.feat.base_classes:Failed to featurize datapoint 116. Appending empty array.\n",
            "WARNING:deepchem.feat.base_classes:Failed to featurize datapoint 117. Appending empty array.\n",
            "WARNING:deepchem.feat.base_classes:Failed to featurize datapoint 118. Appending empty array.\n",
            "WARNING:deepchem.feat.base_classes:Failed to featurize datapoint 119. Appending empty array.\n",
            "WARNING:deepchem.feat.base_classes:Failed to featurize datapoint 120. Appending empty array.\n",
            "WARNING:deepchem.feat.base_classes:Failed to featurize datapoint 121. Appending empty array.\n",
            "WARNING:deepchem.feat.base_classes:Failed to featurize datapoint 122. Appending empty array.\n",
            "WARNING:deepchem.feat.base_classes:Failed to featurize datapoint 123. Appending empty array.\n",
            "WARNING:deepchem.feat.base_classes:Failed to featurize datapoint 124. Appending empty array.\n",
            "WARNING:deepchem.feat.base_classes:Failed to featurize datapoint 125. Appending empty array.\n",
            "WARNING:deepchem.feat.base_classes:Failed to featurize datapoint 126. Appending empty array.\n",
            "WARNING:deepchem.feat.base_classes:Failed to featurize datapoint 127. Appending empty array.\n",
            "WARNING:deepchem.feat.base_classes:Failed to featurize datapoint 128. Appending empty array.\n",
            "WARNING:deepchem.feat.base_classes:Failed to featurize datapoint 129. Appending empty array.\n",
            "WARNING:deepchem.feat.base_classes:Failed to featurize datapoint 130. Appending empty array.\n",
            "WARNING:deepchem.feat.base_classes:Failed to featurize datapoint 131. Appending empty array.\n",
            "WARNING:deepchem.feat.base_classes:Failed to featurize datapoint 132. Appending empty array.\n",
            "WARNING:deepchem.feat.base_classes:Failed to featurize datapoint 133. Appending empty array.\n",
            "WARNING:deepchem.feat.base_classes:Failed to featurize datapoint 134. Appending empty array.\n",
            "WARNING:deepchem.feat.base_classes:Failed to featurize datapoint 135. Appending empty array.\n",
            "WARNING:deepchem.feat.base_classes:Failed to featurize datapoint 136. Appending empty array.\n",
            "WARNING:deepchem.feat.base_classes:Failed to featurize datapoint 137. Appending empty array.\n",
            "WARNING:deepchem.feat.base_classes:Failed to featurize datapoint 138. Appending empty array.\n",
            "WARNING:deepchem.feat.base_classes:Failed to featurize datapoint 139. Appending empty array.\n",
            "WARNING:deepchem.feat.base_classes:Failed to featurize datapoint 140. Appending empty array.\n",
            "WARNING:deepchem.feat.base_classes:Failed to featurize datapoint 141. Appending empty array.\n",
            "WARNING:deepchem.feat.base_classes:Failed to featurize datapoint 142. Appending empty array.\n",
            "WARNING:deepchem.feat.base_classes:Failed to featurize datapoint 143. Appending empty array.\n",
            "WARNING:deepchem.feat.base_classes:Failed to featurize datapoint 144. Appending empty array.\n",
            "WARNING:deepchem.feat.base_classes:Failed to featurize datapoint 145. Appending empty array.\n",
            "WARNING:deepchem.feat.base_classes:Failed to featurize datapoint 146. Appending empty array.\n",
            "WARNING:deepchem.feat.base_classes:Failed to featurize datapoint 147. Appending empty array.\n",
            "WARNING:deepchem.feat.base_classes:Failed to featurize datapoint 148. Appending empty array.\n",
            "WARNING:deepchem.feat.base_classes:Failed to featurize datapoint 149. Appending empty array.\n",
            "WARNING:deepchem.feat.base_classes:Failed to featurize datapoint 150. Appending empty array.\n",
            "WARNING:deepchem.feat.base_classes:Failed to featurize datapoint 151. Appending empty array.\n",
            "WARNING:deepchem.feat.base_classes:Failed to featurize datapoint 152. Appending empty array.\n",
            "WARNING:deepchem.feat.base_classes:Failed to featurize datapoint 153. Appending empty array.\n",
            "WARNING:deepchem.feat.base_classes:Failed to featurize datapoint 154. Appending empty array.\n",
            "WARNING:deepchem.feat.base_classes:Failed to featurize datapoint 155. Appending empty array.\n",
            "WARNING:deepchem.feat.base_classes:Failed to featurize datapoint 156. Appending empty array.\n",
            "WARNING:deepchem.feat.base_classes:Failed to featurize datapoint 157. Appending empty array.\n",
            "WARNING:deepchem.feat.base_classes:Failed to featurize datapoint 158. Appending empty array.\n",
            "WARNING:deepchem.feat.base_classes:Failed to featurize datapoint 159. Appending empty array.\n",
            "WARNING:deepchem.feat.base_classes:Failed to featurize datapoint 160. Appending empty array.\n",
            "WARNING:deepchem.feat.base_classes:Failed to featurize datapoint 161. Appending empty array.\n",
            "WARNING:deepchem.feat.base_classes:Failed to featurize datapoint 162. Appending empty array.\n",
            "WARNING:deepchem.feat.base_classes:Failed to featurize datapoint 163. Appending empty array.\n",
            "WARNING:deepchem.feat.base_classes:Failed to featurize datapoint 164. Appending empty array.\n",
            "WARNING:deepchem.feat.base_classes:Failed to featurize datapoint 165. Appending empty array.\n",
            "WARNING:deepchem.feat.base_classes:Failed to featurize datapoint 166. Appending empty array.\n",
            "WARNING:deepchem.feat.base_classes:Failed to featurize datapoint 167. Appending empty array.\n",
            "WARNING:deepchem.feat.base_classes:Failed to featurize datapoint 168. Appending empty array.\n",
            "WARNING:deepchem.feat.base_classes:Failed to featurize datapoint 169. Appending empty array.\n",
            "WARNING:deepchem.feat.base_classes:Failed to featurize datapoint 170. Appending empty array.\n",
            "WARNING:deepchem.feat.base_classes:Failed to featurize datapoint 171. Appending empty array.\n",
            "WARNING:deepchem.feat.base_classes:Failed to featurize datapoint 172. Appending empty array.\n",
            "WARNING:deepchem.feat.base_classes:Failed to featurize datapoint 173. Appending empty array.\n",
            "WARNING:deepchem.feat.base_classes:Failed to featurize datapoint 174. Appending empty array.\n",
            "WARNING:deepchem.feat.base_classes:Failed to featurize datapoint 175. Appending empty array.\n",
            "WARNING:deepchem.feat.base_classes:Failed to featurize datapoint 176. Appending empty array.\n",
            "WARNING:deepchem.feat.base_classes:Failed to featurize datapoint 177. Appending empty array.\n",
            "WARNING:deepchem.feat.base_classes:Failed to featurize datapoint 178. Appending empty array.\n",
            "WARNING:deepchem.feat.base_classes:Failed to featurize datapoint 179. Appending empty array.\n",
            "WARNING:deepchem.feat.base_classes:Failed to featurize datapoint 180. Appending empty array.\n",
            "WARNING:deepchem.feat.base_classes:Failed to featurize datapoint 181. Appending empty array.\n",
            "WARNING:deepchem.feat.base_classes:Failed to featurize datapoint 182. Appending empty array.\n",
            "WARNING:deepchem.feat.base_classes:Failed to featurize datapoint 183. Appending empty array.\n",
            "WARNING:deepchem.feat.base_classes:Failed to featurize datapoint 184. Appending empty array.\n",
            "WARNING:deepchem.feat.base_classes:Failed to featurize datapoint 185. Appending empty array.\n",
            "WARNING:deepchem.feat.base_classes:Failed to featurize datapoint 186. Appending empty array.\n",
            "WARNING:deepchem.feat.base_classes:Failed to featurize datapoint 187. Appending empty array.\n",
            "WARNING:deepchem.feat.base_classes:Failed to featurize datapoint 188. Appending empty array.\n",
            "WARNING:deepchem.feat.base_classes:Failed to featurize datapoint 189. Appending empty array.\n",
            "WARNING:deepchem.feat.base_classes:Failed to featurize datapoint 190. Appending empty array.\n",
            "WARNING:deepchem.feat.base_classes:Failed to featurize datapoint 191. Appending empty array.\n",
            "WARNING:deepchem.feat.base_classes:Failed to featurize datapoint 192. Appending empty array.\n"
          ]
        }
      ]
    },
    {
      "cell_type": "code",
      "source": [
        "print(train_dataset)"
      ],
      "metadata": {
        "colab": {
          "base_uri": "https://localhost:8080/"
        },
        "id": "FlZR8fC_XguR",
        "outputId": "3fd8a199-e1a3-4582-d3b0-31af61332cbb"
      },
      "execution_count": null,
      "outputs": [
        {
          "output_type": "stream",
          "name": "stdout",
          "text": [
            "<DiskDataset X.shape: (np.int64(154), np.int64(1)), y.shape: (np.int64(154),), w.shape: (np.int64(154),), ids: ['3l7b' '2cet' '2weg' ... '2wbg' '3vd4' '3uex'], task_names: [0]>\n"
          ]
        }
      ]
    },
    {
      "cell_type": "markdown",
      "source": [],
      "metadata": {
        "id": "tWKPeveQPILY"
      }
    },
    {
      "cell_type": "markdown",
      "source": [
        "### 모델 생성 및 훈련"
      ],
      "metadata": {
        "id": "iz54TTjWDR1D"
      }
    },
    {
      "cell_type": "code",
      "source": [
        "# 모델 생성 및 훈련\n",
        "from sklearn.ensemble import RandomForestRegressor\n",
        "sklearn_model = RandomForestRegressor(n_estimators=100)\n",
        "model = dc.models.SklearnModel(sklearn_model, model_dir=\"pdbbind_rf\")\n",
        "model.fit(train_dataset)"
      ],
      "metadata": {
        "id": "LfYLgp-sDQs3"
      },
      "execution_count": null,
      "outputs": []
    },
    {
      "cell_type": "markdown",
      "source": [
        "### 모델 평가"
      ],
      "metadata": {
        "id": "d0NpHySADVKV"
      }
    },
    {
      "cell_type": "code",
      "source": [
        "metric = dc.metrics.Metric(dc.metrics.pearson_r2_score) # 피어슨 상관계수 지표 사용\n",
        "train_scores = model.evaluate(train_dataset, [metric], transformers)\n",
        "test_scores = model.evaluate(test_dataset, [metric], transformers)\n",
        "print(\"Train scores\")\n",
        "print(train_scores)\n",
        "print(\"Test scores\")\n",
        "print(test_scores)"
      ],
      "metadata": {
        "colab": {
          "base_uri": "https://localhost:8080/"
        },
        "id": "qcGwTWXmDUeM",
        "outputId": "5a11671f-be88-406a-f257-488b0b86f882"
      },
      "execution_count": null,
      "outputs": [
        {
          "output_type": "stream",
          "name": "stdout",
          "text": [
            "Train scores\n",
            "{'pearson_r2_score': np.float64(nan)}\n",
            "Test scores\n",
            "{'pearson_r2_score': np.float64(nan)}\n"
          ]
        }
      ]
    },
    {
      "cell_type": "markdown",
      "source": [
        "## 다층 퍼셉트론 (인공 신경망)"
      ],
      "metadata": {
        "id": "CBPiXkPwDcik"
      }
    },
    {
      "cell_type": "markdown",
      "source": [
        "### 데이터 불러오기 및 확인\n",
        "- sanitize : DeepChem이 탐지한 오류 (3차원 구조의 잘못된 형식)"
      ],
      "metadata": {
        "id": "mFduvOjgDXb5"
      }
    },
    {
      "cell_type": "code",
      "source": [
        "import deepchem as dc\n",
        "featurizer = dc.feat.RdkitGridFeaturizer(voxel_width=2.0, sanitize=True, flatten=True,\n",
        "                                         feature_types=['hbond', 'salt_bridge', 'pi_stack', 'cation_pi', 'ecfp', 'splif'])\n",
        "pdbbind_tasks, pdbbind_datasets, transformers = dc.molnet.load_pdbbind(featurizer=featurizer, splitter=\"random\", subset=\"core\")\n",
        "train_dataset, valid_dataset, test_dataset = pdbbind_datasets"
      ],
      "metadata": {
        "id": "FZ5U67ZcDgVZ"
      },
      "execution_count": null,
      "outputs": []
    },
    {
      "cell_type": "markdown",
      "source": [
        "### 모델 생성 및 훈련"
      ],
      "metadata": {
        "id": "BhlOIPUEYPry"
      }
    },
    {
      "cell_type": "code",
      "source": [
        "# DiskDataset 데이터를 메모리로 로드하고 float32로 변환\n",
        "train_X = train_dataset.X.astype('float32')\n",
        "train_y = train_dataset.y.astype('float32')\n",
        "valid_X = valid_dataset.X.astype('float32')\n",
        "valid_y = valid_dataset.y.astype('float32')\n",
        "test_X = test_dataset.X.astype('float32')\n",
        "test_y = test_dataset.y.astype('float32')\n",
        "\n",
        "# NumpyDataset으로 변환\n",
        "train_dataset = dc.data.NumpyDataset(train_X, train_y, train_dataset.w, train_dataset.ids)\n",
        "valid_dataset = dc.data.NumpyDataset(valid_X, valid_y, valid_dataset.w, valid_dataset.ids)\n",
        "test_dataset = dc.data.NumpyDataset(test_X, test_y, test_dataset.w, test_dataset.ids)"
      ],
      "metadata": {
        "id": "AvFP3teJeCJz"
      },
      "execution_count": null,
      "outputs": []
    },
    {
      "cell_type": "code",
      "execution_count": null,
      "metadata": {
        "colab": {
          "base_uri": "https://localhost:8080/"
        },
        "id": "rXgOTLdBWNKt",
        "outputId": "ff3f250a-c9f1-4dbe-b0c4-05fa0a43dea4"
      },
      "outputs": [
        {
          "output_type": "execute_result",
          "data": {
            "text/plain": [
              "0.7799971771240234"
            ]
          },
          "metadata": {},
          "execution_count": 25
        }
      ],
      "source": [
        "# 모델 생성 및 훈련\n",
        "n_features = train_dataset.X.shape[1]\n",
        "model = dc.models.MultitaskRegressor(\n",
        "        n_tasks=len(pdbbind_tasks),\n",
        "        n_features=n_features,\n",
        "        layer_sizes=[2000, 1000],\n",
        "        dropouts=0.5,\n",
        "        learning_rate=0.0003)\n",
        "model.fit(train_dataset, nb_epoch=250)"
      ]
    },
    {
      "cell_type": "markdown",
      "source": [
        "### 모델 평가"
      ],
      "metadata": {
        "id": "RHv1h6pMhF5L"
      }
    },
    {
      "cell_type": "code",
      "source": [
        "metric = dc.metrics.Metric(dc.metrics.pearson_r2_score) # 피어슨 상관계수 지표 사용\n",
        "train_scores = model.evaluate(train_dataset, [metric], transformers)\n",
        "test_scores = model.evaluate(test_dataset, [metric], transformers)\n",
        "print(\"Train scores\")\n",
        "print(train_scores)\n",
        "print(\"Test scores\")\n",
        "print(test_scores)"
      ],
      "metadata": {
        "colab": {
          "base_uri": "https://localhost:8080/"
        },
        "id": "g1buFeXGhKHs",
        "outputId": "6946f58e-1318-4b9a-e54c-12379200e221"
      },
      "execution_count": null,
      "outputs": [
        {
          "output_type": "stream",
          "name": "stdout",
          "text": [
            "Train scores\n",
            "{'pearson_r2_score': np.float64(0.000409806162900601)}\n",
            "Test scores\n",
            "{'pearson_r2_score': np.float64(0.018822942235091802)}\n"
          ]
        }
      ]
    }
  ],
  "metadata": {
    "colab": {
      "provenance": [],
      "include_colab_link": true
    },
    "kernelspec": {
      "display_name": "Python 3",
      "name": "python3"
    },
    "language_info": {
      "name": "python"
    }
  },
  "nbformat": 4,
  "nbformat_minor": 0
}